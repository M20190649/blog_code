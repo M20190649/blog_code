{
 "cells": [
  {
   "cell_type": "markdown",
   "metadata": {},
   "source": [
    "# Landcover exercise"
   ]
  },
  {
   "cell_type": "markdown",
   "metadata": {},
   "source": [
    "## This is the original script from the course materials"
   ]
  },
  {
   "cell_type": "code",
   "execution_count": 4,
   "metadata": {},
   "outputs": [
    {
     "data": {
      "image/png": "[encoded data removed]",
      "text/plain": [
       "<matplotlib.figure.Figure at 0x1e55d2e7ac8>"
      ]
     },
     "metadata": {},
     "output_type": "display_data"
    }
   ],
   "source": [
    "from matplotlib import colors\n",
    "import numpy as np\n",
    "import matplotlib.pyplot as plt\n",
    "from random import randint\n",
    "#generate a 50x50 raster populated with random values 1 to 5\n",
    "# where 1 = water, 2 = urban, 3 = suburban, 4 = arable, 5 = woodland  \n",
    "\n",
    "# first as a list...\n",
    "all_rows = []\n",
    "for row_num in range(50):\n",
    "    row = []\n",
    "    for col_num in range(50):\n",
    "        row.append(randint(1,5))\n",
    "    all_rows.append(row)\n",
    "# ... then create a numpy array from the list...\n",
    "land_cover_array = np.array(all_rows)\n",
    "# generate a matplotlib listed color map...\n",
    "cmap = colors.ListedColormap(['blue','white','gray','orange','green'])\n",
    "# plot the raster using the color map...\n",
    "plt.imshow(land_cover_array,cmap=cmap)\n",
    "plt.show()"
   ]
  },
  {
   "cell_type": "markdown",
   "metadata": {},
   "source": [
    "### You are asked to \"Modify your script so that it calculates the number of cells in each land cover class. A good starting point would be to think about what data structure would be best to store this information\""
   ]
  },
  {
   "cell_type": "markdown",
   "metadata": {},
   "source": [
    "#### As ever when coding, it is useful to start by thinking what the output will be. In this case we will want something like:\n",
    "#### Water 342\n",
    "#### Woodland 651\n",
    "#### Urban 158 etc.\n",
    "#### This suggests to me that a key,value dictionary would be useful."
   ]
  },
  {
   "cell_type": "code",
   "execution_count": 14,
   "metadata": {},
   "outputs": [
    {
     "name": "stdout",
     "output_type": "stream",
     "text": [
      "{'water': 507, 'urban': 478, 'suburban': 488, 'arable': 541, 'woodland': 486}\n"
     ]
    }
   ],
   "source": [
    "# iitialise the dictionary...\n",
    "class_totals = {'water':0,'urban':0,'suburban':0,'arable':0,'woodland':0}\n",
    "# determine the class of each cell\n",
    "for row in range(50):\n",
    "    for col in range(50):\n",
    "        if all_rows[row][col] == 1:\n",
    "            class_totals['water'] += 1\n",
    "        elif all_rows[row][col] == 2:\n",
    "            class_totals['urban'] += 1\n",
    "        elif all_rows[row][col] == 3:\n",
    "            class_totals['suburban'] += 1\n",
    "        elif all_rows[row][col] == 4:\n",
    "            class_totals['arable'] += 1\n",
    "        elif all_rows[row][col] == 5:\n",
    "            class_totals['woodland'] += 1    \n",
    "print (class_totals)"
   ]
  },
  {
   "cell_type": "markdown",
   "metadata": {},
   "source": [
    "### As expected each class has a similar amout of cells. The total should be 2,500. \n",
    "\n",
    "### As an extra exercise, consider how you might make the generated landcover map more realistic. Here we have generated each cell entirely randomly, but in reality a water cell is more likely to be adjacent to another water cell; A block of suburban cells are allways going to be adjacent to a block of urban cells."
   ]
  },
  {
   "cell_type": "code",
   "execution_count": null,
   "metadata": {},
   "outputs": [],
   "source": []
  }
 ],
 "metadata": {
  "kernelspec": {
   "display_name": "Python 3",
   "language": "python",
   "name": "python3"
  },
  "language_info": {
   "codemirror_mode": {
    "name": "ipython",
    "version": 3
   },
   "file_extension": ".py",
   "mimetype": "text/x-python",
   "name": "python",
   "nbconvert_exporter": "python",
   "pygments_lexer": "ipython3",
   "version": "3.6.4"
  }
 },
 "nbformat": 4,
 "nbformat_minor": 2
}
