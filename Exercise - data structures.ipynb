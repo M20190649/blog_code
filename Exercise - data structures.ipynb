{
 "cells": [
  {
   "cell_type": "markdown",
   "metadata": {},
   "source": [
    "# Calculate street length"
   ]
  },
  {
   "cell_type": "markdown",
   "metadata": {},
   "source": [
    "### Each row of the file __[streets.txt](streets.txt)__  contains information on a single street in Manchester city centre including the name of the street. Also included is the geometry of the street in the form of a polyline – a set of points that describe the street. The point pairs are separated by semi colons. Write a Python script to calculate the length of each street (in metres)."
   ]
  },
  {
   "cell_type": "markdown",
   "metadata": {},
   "source": [
    "### Example row of data:\n",
    "\n",
    "`Richmond Street;384252,397760;384368,397867;384488,397991`"
   ]
  },
  {
   "cell_type": "code",
   "execution_count": 1,
   "metadata": {},
   "outputs": [],
   "source": [
    "import sys\n",
    "import math"
   ]
  },
  {
   "cell_type": "markdown",
   "metadata": {},
   "source": [
    "### Define a function that calculates the distance between a pair of points. The input will be two tuples and the output a distance(m)."
   ]
  },
  {
   "cell_type": "code",
   "execution_count": 2,
   "metadata": {},
   "outputs": [],
   "source": [
    "def pointDistance(point1,point2):\n",
    "    X1 = int(point1[0])\n",
    "    Y1 = int(point1[1])\n",
    "    X2 = int(point2[0])\n",
    "    Y2 = int(point2[1])\n",
    "    sumsq = (X2 - X1)**2 + (Y2 - Y1)**2\n",
    "    distance = math.sqrt(sumsq)\n",
    "    return distance"
   ]
  },
  {
   "cell_type": "markdown",
   "metadata": {},
   "source": [
    "### Read each row of file into a _dictionary_ element. The dictionary element name will be the street name and the value will be a _list_ of point tuples"
   ]
  },
  {
   "cell_type": "code",
   "execution_count": 4,
   "metadata": {},
   "outputs": [
    {
     "name": "stdout",
     "output_type": "stream",
     "text": [
      "Portland Street\n",
      "384159 397893\n",
      "384229 397960\n",
      "384291 398027\n",
      "384357 398100\n",
      "384427 398178\n",
      "384518 398273\n",
      "\n",
      "Aytoun Street\n",
      "384436 398180\n",
      "384470 398135\n",
      "384500 398093\n",
      "384553 398031\n",
      "384573 397927\n",
      "\n",
      "Richmond Street\n",
      "384252 397760\n",
      "384368 397867\n",
      "384488 397991\n",
      "\n",
      "Granby Row\n",
      "384327 397600\n",
      "384409 397631\n",
      "384470 397655\n",
      "384573 397695\n",
      "\n"
     ]
    }
   ],
   "source": [
    "try:\n",
    "    street_file = open(\"streets.txt\", \"r\")\n",
    "except Exception as e: \n",
    "    print(\"Error: \" + str(e))\n",
    "    sys.exit()\n",
    "allStreets = {} #define dictionary\n",
    "for street in street_file: #street is 1 line\n",
    "    myStreet = street.split(\";\")\n",
    "    myStreetName = \"\"\n",
    "    myStreetPoints = []\n",
    "    for element in myStreet:\n",
    "        if element.find(\",\") == -1:\n",
    "            myStreetName = element\n",
    "            print(myStreetName)\n",
    "        else:\n",
    "            myPointValues = element.split(\",\")\n",
    "            myPoint = (myPointValues[0],myPointValues[1]) #create tuple for point\n",
    "            print(myPointValues[0],myPointValues[1]) \n",
    "            myStreetPoints.append(myPoint)\n",
    "    allStreets[myStreetName] = myStreetPoints\n",
    "street_file.close()"
   ]
  },
  {
   "cell_type": "markdown",
   "metadata": {},
   "source": [
    "### We now have a dictionary of the streets"
   ]
  },
  {
   "cell_type": "code",
   "execution_count": 7,
   "metadata": {},
   "outputs": [
    {
     "name": "stdout",
     "output_type": "stream",
     "text": [
      "street: Portland Street points: 6 distance: 522\n",
      "street: Aytoun Street points: 5 distance: 295\n",
      "street: Richmond Street points: 3 distance: 330\n",
      "street: Granby Row points: 4 distance: 263\n"
     ]
    }
   ],
   "source": [
    "for streetName,points in allStreets.items():    \n",
    "    count = 0\n",
    "    lineDist = 0\n",
    "    while count < len(points) - 1:\n",
    "        lineDist += pointDistance(points[count], points[count+1])\n",
    "        count += 1\n",
    "    print(\"street:\", streetName, \"points:\", len(points), \"distance:\", int(lineDist))"
   ]
  },
  {
   "cell_type": "markdown",
   "metadata": {},
   "source": [
    "### The distance is rounded to the nearest metre, since the supplied data resolution is 1m."
   ]
  },
  {
   "cell_type": "code",
   "execution_count": null,
   "metadata": {},
   "outputs": [],
   "source": []
  }
 ],
 "metadata": {
  "kernelspec": {
   "display_name": "Python 3",
   "language": "python",
   "name": "python3"
  },
  "language_info": {
   "codemirror_mode": {
    "name": "ipython",
    "version": 3
   },
   "file_extension": ".py",
   "mimetype": "text/x-python",
   "name": "python",
   "nbconvert_exporter": "python",
   "pygments_lexer": "ipython3",
   "version": "3.6.4"
  }
 },
 "nbformat": 4,
 "nbformat_minor": 2
}
